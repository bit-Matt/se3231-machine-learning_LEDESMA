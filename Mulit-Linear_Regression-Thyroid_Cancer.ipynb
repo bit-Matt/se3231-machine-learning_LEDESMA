{
 "cells": [
  {
   "cell_type": "code",
   "execution_count": null,
   "id": "0646a09b-4f42-48ab-b914-c9b814611ef1",
   "metadata": {},
   "outputs": [],
   "source": []
  }
 ],
 "metadata": {
  "kernelspec": {
   "display_name": "",
   "name": ""
  },
  "language_info": {
   "name": ""
  }
 },
 "nbformat": 4,
 "nbformat_minor": 5
}
