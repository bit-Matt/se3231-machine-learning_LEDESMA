import numpy as np  
import pandas as pd  
import matplotlib.pyplot as plt  
import seaborn as sns  
from sklearn.model_selection import train_test_split  
from sklearn.linear_model import LinearRegression  
from sklearn.metrics import mean_squared_error, r2_score  


df = pd.read_csv("csv/diabetes.csv")


df.head()


df.info()


X = df[["Glucose"]]  # Feature (independent variable)
Y = df["Outcome"]  # Target (dependent variable)


X_train, X_test, Y_train, Y_test = train_test_split(X, Y, test_size=0.2, random_state=42)


print("Training Set:")
print(X_train)
print(Y_train)

print("\nTesting Set:")
print(X_test)
print(Y_test)


model = LinearRegression()
model.fit(X_train, Y_train)


print(f"Intercept (b): {model.intercept_:.2f}")  # No indexing needed
print(f"Coefficient (m): {model.coef_[0]:.2f}")  # Use [0] to extract number


Y_pred = model.predict(X_test)


plt.figure(figsize=(8,6))

# Scatter plot of actual 
sns.scatterplot(x=X_test.values.flatten(), y=Y_test.values.flatten(), color="blue", label="Actual")

# Scatter plot of predicted
sns.scatterplot(x=X_test.values.flatten(), y=Y_pred.flatten(), color="red", label="Predicted")

plt.xlabel("Glucose")
plt.ylabel("Outcome")
plt.title("Actual vs Predicted Values")
plt.legend()
plt.show()


mse = mean_squared_error(Y_test, Y_pred)
r2 = r2_score(Y_test, Y_pred)

print(f"Mean Squared Error (MSE): {mse:.2f}")
print(f"R² Score: {r2:.2f}")
