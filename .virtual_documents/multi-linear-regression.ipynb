import numpy as np  
import pandas as pd  
import matplotlib.pyplot as plt  
import seaborn as sns  
from sklearn.model_selection import train_test_split  
from sklearn.linear_model import LinearRegression  
from sklearn.metrics import mean_squared_error, r2_score  
from sklearn.preprocessing import LabelEncoder


df = pd.read_csv('csv/StudentPerformanceFactors.csv')


df.head()


# Apply Label Encoding for Ordered Categories
ordinal_columns = ["Parental_Involvement", "Teacher_Quality", "Parental_Education_Level", "Distance_from_Home", "Family_Income"]
encoder = LabelEncoder()

for col in ordinal_columns:
    df[col] = encoder.fit_transform(df[col])


# Apply One-Hot Encoding for Unordered Categorical Features
df = pd.get_dummies(df, columns=["Access_to_Resources" , "Learning_Disabilities" , "Extracurricular_Activities" , "Motivation_Level",
                                  "Internet_Access" , "School_Type" , "Peer_Influence" , "Gender"], drop_first=True)



# Define Features (X) and Target (Y)
X = df.drop(columns=["Exam_Score"])  # All columns except target
Y = df["Exam_Score"]  # Target variable


X_train, X_test, Y_train, Y_test = train_test_split(X, Y, test_size=0.2, random_state=42)


model = LinearRegression()


model.fit(X_train, Y_train)


print(f"Intercept (b): {model.intercept_:.2f}")  # The base score when all features are 0
coefficients = pd.DataFrame(model.coef_, X.columns, columns=['Coefficient'])
print(coefficients)



Y_pred = model.predict(X_test)



# Compute errors
mse = mean_squared_error(Y_test, Y_pred)
r2 = r2_score(Y_test, Y_pred)

print(f"Mean Squared Error (MSE): {mse:.2f}")
print(f"R² Score: {r2:.2f}")


# Create scatter plot
plt.figure(figsize=(8, 6))
sns.scatterplot(x=Y_test.values.flatten(), y=Y_test.values.flatten(), color="blue", label="Actual", alpha=0.6)  # Actual values
sns.scatterplot(x=Y_test.values.flatten(), y=Y_pred.flatten(), color="red", label="Predicted", alpha=0.6)  # Predicted values

# Plot a reference diagonal line (perfect predictions)
plt.plot([Y_test.min(), Y_test.max()], [Y_test.min(), Y_test.max()], color="black", linestyle="--", label="Perfect Fit")

# Labels, title, and legend
plt.xlabel("Actual Exam Scores")
plt.ylabel("Predicted Exam Scores")
plt.title("Actual vs. Predicted Exam Scores")
plt.legend()
plt.show()


coefficients = pd.DataFrame(model.coef_, X.columns, columns=['Coefficient'])
coefficients = coefficients.sort_values(by="Coefficient", ascending=False)
print(coefficients)



r2_train = r2_score(Y_train, model.predict(X_train))
r2_test = r2_score(Y_test, Y_pred)

print(f"R² Score on Training Data: {r2_train:.4f}")
print(f"R² Score on Test Data: {r2_test:.4f}")




