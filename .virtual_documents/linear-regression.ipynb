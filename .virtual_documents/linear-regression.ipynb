import numpy as np  
import pandas as pd  
import matplotlib.pyplot as plt  
import seaborn as sns  
from sklearn.model_selection import train_test_split  
from sklearn.linear_model import LinearRegression  
from sklearn.metrics import mean_squared_error, r2_score  



df = pd.read_csv('csv/salaries.csv')


plt.figure(figsize=(8,6))
sns.scatterplot(x=df["years_of_experience"], y=df["salary"], color="blue")
plt.xlabel("Years of Experience")
plt.ylabel("Salary")
plt.title("Years of Experience vs. Salary")
plt.show()


X = df[["years_of_experience"]]  # Feature (independent variable)
y = df["salary"]  # Target (dependent variable)



X_train, X_test, y_train, y_test = train_test_split(X, y, test_size=0.2, random_state=42)


print("Training Set:")
print(X_train)
print(y_train)

print("\nTesting Set:")
print(X_test)
print(y_test)



model = LinearRegression()
model.fit(X_train, y_train)


print(f"Intercept (b): {model.intercept_:.2f}")  # No indexing needed
print(f"Coefficient (m): {model.coef_[0]:.2f}")  # Use [0] to extract number


Y_pred = model.predict(X_test)


plt.figure(figsize=(8,6))

# Scatter plot of actual salaries
sns.scatterplot(x=X_test.values.flatten(), y=y_test.values.flatten(), color="blue", label="Actual")

# Scatter plot of predicted salaries
sns.scatterplot(x=X_test.values.flatten(), y=Y_pred.flatten(), color="red", label="Predicted")

plt.xlabel("Years of Experience")
plt.ylabel("Salary")
plt.title("Actual vs Predicted Salaries")
plt.legend()
plt.show()


mse = mean_squared_error(y_test, Y_pred)
r2 = r2_score(y_test, Y_pred)

print(f"Mean Squared Error (MSE): {mse:.2f}")
print(f"R² Score: {r2:.2f}")


salary_variance = np.var(y_test)
print(f"Salary Variance: {salary_variance:.2f}")

